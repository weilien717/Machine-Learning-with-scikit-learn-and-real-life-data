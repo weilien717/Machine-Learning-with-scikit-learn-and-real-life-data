{
 "cells": [
  {
   "cell_type": "markdown",
   "id": "3a8679a8",
   "metadata": {},
   "source": [
    "Wei Lien Huang 40128391\n"
   ]
  },
  {
   "cell_type": "code",
   "execution_count": 2,
   "id": "93c84c96",
   "metadata": {},
   "outputs": [],
   "source": [
    "from scipy.io import arff\n",
    "import pandas as pd\n",
    "import os                        # for os.path.exists\n",
    "import json                      # for loading metadata\n",
    "import urllib                    # for downloading remote files \n",
    "import numpy as np\n",
    "import matplotlib as mpl\n",
    "import matplotlib.pyplot as plt\n",
    "import sklearn\n",
    "import sklearn.tree\n",
    "import sklearn.metrics\n",
    "import sklearn.ensemble\n",
    "import sklearn.preprocessing"
   ]
  },
  {
   "cell_type": "code",
   "execution_count": 106,
   "id": "3fe2c903",
   "metadata": {},
   "outputs": [],
   "source": [
    "def separateData(X,y):\n",
    "    X_trn, X_tst, y_trn, y_tst = sklearn.model_selection.train_test_split(X, y, test_size=0.3, random_state=0)\n",
    "    return X_trn, X_tst, y_trn, y_tst\n",
    "\n",
    "def readArff(dir):\n",
    "    data = arff.loadarff(dir)\n",
    "    df = pd.DataFrame(data[0])\n",
    "    data_list = []\n",
    "    data = np.array(df)\n",
    "    X = data[:,0:-1]\n",
    "    y_ = data[:,-1:]\n",
    "    y_lis = []\n",
    "    for ele in y_:\n",
    "        ele = ele[0].decode('utf-8')\n",
    "        if ele == 'T' or ele == '1':\n",
    "            y_lis.append(1)\n",
    "        if ele == 'F' or ele == '0':\n",
    "            y_lis.append(0)\n",
    "    y = np.array(y_lis).reshape(-1,1)\n",
    "    return X,y"
   ]
  },
  {
   "cell_type": "markdown",
   "id": "cd342491",
   "metadata": {},
   "source": [
    "Extract the following databases\n",
    "1) [Diabetic Retinopathy ](https://archive.ics.uci.edu/ml/datasets/Diabetic+Retinopathy+Debrecen+Data+Set)\n",
    "\n",
    "2) [Default of credit card clients](https://archive.ics.uci.edu/ml/datasets/default+of+credit+card+clients)\n",
    "\n",
    "3) [Breast Cancer Wisconsin](https://archive.ics.uci.edu/ml/datasets/Breast+Cancer+Wisconsin+(Diagnostic))\n",
    "\n",
    "4) [Statlog (German credit data) (recommend german.doc for instructions and german-numeric for data.)](https://archive.ics.uci.edu/ml/datasets/Statlog+(German+Credit+Data))\n",
    "\n",
    "5) [Adult](https://archive.ics.uci.edu/ml/datasets/adult)\n",
    "\n",
    "6) [Yeast](https://archive.ics.uci.edu/ml/datasets/Yeast)\n",
    "\n",
    "7) [Thoracic Surgery Data](https://archive.ics.uci.edu/ml/datasets/Thoracic+Surgery+Data)\n",
    "\n",
    "8) [Seismic-Bumps](https://archive.ics.uci.edu/ml/datasets/seismic-bumps)\n"
   ]
  },
  {
   "cell_type": "markdown",
   "id": "3581cd04",
   "metadata": {},
   "source": [
    "# 1)  Start with the Diabetic Retinopathy data"
   ]
  },
  {
   "cell_type": "code",
   "execution_count": 116,
   "id": "e14873ad",
   "metadata": {},
   "outputs": [],
   "source": [
    "# loading the Diabetic Retinopathy data that is downloaded \n",
    "X,y = readArff('resources/messidor_features.arff')\n",
    "X_trn_diabetic, X_tst_diabetic, y_trn_diabetic, y_tst_diabetic = separateData(X,y)"
   ]
  },
  {
   "cell_type": "markdown",
   "id": "fef1049c",
   "metadata": {},
   "source": [
    "# 2) Default of credit card clients"
   ]
  },
  {
   "cell_type": "code",
   "execution_count": 9,
   "id": "abf38d45",
   "metadata": {},
   "outputs": [],
   "source": [
    "data = pd.read_excel (r'resources/default of credit card clients.xls')\n",
    "X = np.array(data)[1:,1:-1]\n",
    "y = np.array(data)[1:,-1:]\n",
    "X_trn_credit, X_tst_credit, y_trn_credit, y_tst_credit = separateData(X,y)"
   ]
  },
  {
   "cell_type": "markdown",
   "id": "7f1b1413",
   "metadata": {},
   "source": [
    "# 3) Breast Cancer Wisconsin \n",
    "\n",
    "- if y = 2 --> benign    we will change this value to 0\n",
    "\n",
    "- if y = 4 --> malignant we will change this value to 1"
   ]
  },
  {
   "cell_type": "code",
   "execution_count": 10,
   "id": "ce9310be",
   "metadata": {},
   "outputs": [],
   "source": [
    "data = pd.read_csv('resources/breast-cancer-wisconsin.data', header=None)\n",
    "X = np.array(data)[:,0:-1]\n",
    "y = np.array(data)[:,-1:]\n",
    "y_lis = []\n",
    "for ele in y:\n",
    "    if ele == 2:\n",
    "        y_lis.append(0)\n",
    "    if ele == 4:\n",
    "        y_lis.append(1)\n",
    "y = np.array(y_lis).reshape(-1,1)\n",
    "\n",
    "X_trn_breast, X_tst_breast, y_trn_breast, y_tst_breast = separateData(X,y)"
   ]
  },
  {
   "cell_type": "markdown",
   "id": "11e22c3f",
   "metadata": {},
   "source": [
    "# 4) Statlog (German credit data) (recommend german.doc for instructions and german-numeric for data.)"
   ]
  },
  {
   "cell_type": "code",
   "execution_count": 11,
   "id": "bb1835b1",
   "metadata": {},
   "outputs": [],
   "source": [
    "data = pd.read_csv('resources/german.data-numeric', header=None,  delim_whitespace=True)\n",
    "X = np.array(data)[:,0:-1]\n",
    "y = np.array(data)[:,-1:].reshape(-1,1)\n",
    "X_trn_german, X_tst_german, y_trn_german, y_tst_german = separateData(X,y)"
   ]
  },
  {
   "cell_type": "markdown",
   "id": "5b329d8f",
   "metadata": {},
   "source": [
    "# 5) Adult"
   ]
  },
  {
   "cell_type": "code",
   "execution_count": 12,
   "id": "90f959b2",
   "metadata": {},
   "outputs": [],
   "source": [
    "data = pd.read_csv('resources/adult.data', header=None)\n",
    "X = np.array(data)[:,0:-1]\n",
    "y = np.array(data)[:,-1:].reshape(-1,1)\n",
    "y_lis = []\n",
    "for ele in y:\n",
    "    if ele == ' <=50K':\n",
    "        y_lis.append(0)\n",
    "    if ele == ' >50K':\n",
    "        y_lis.append(1)\n",
    "y = np.array(y_lis).reshape(-1,1)\n",
    "X_trn_adult, X_tst_adult, y_trn_adult, y_tst_adult = separateData(X,y)"
   ]
  },
  {
   "cell_type": "markdown",
   "id": "e4a5464d",
   "metadata": {},
   "source": [
    "# 6) Yeast"
   ]
  },
  {
   "cell_type": "code",
   "execution_count": 13,
   "id": "4225f526",
   "metadata": {},
   "outputs": [],
   "source": [
    "data = pd.read_csv('resources/yeast.data', header=None, delim_whitespace=True)\n",
    "\n",
    "X1 = np.array(data)[:,1:5]\n",
    "X2 = np.array(data)[:,5:9]\n",
    "X = np.hstack((X1,X2))\n",
    "y = np.array(data)[:,6:7]\n",
    "X_trn_yeast, X_tst_yeast, y_trn_yeast, y_tst_yeast = separateData(X,y)"
   ]
  },
  {
   "cell_type": "markdown",
   "id": "887fb15b",
   "metadata": {},
   "source": [
    "# 7) Thoracic Surgery Data"
   ]
  },
  {
   "cell_type": "code",
   "execution_count": 95,
   "id": "452ab3ef",
   "metadata": {},
   "outputs": [],
   "source": [
    "X,y = readArff('resources/ThoraricSurgery.arff')\n",
    "X_trn_thoracic, X_tst_thoracic, y_trn_thoracic, y_tst_thoracic = separateData(X,y)"
   ]
  },
  {
   "cell_type": "markdown",
   "id": "3ee133bb",
   "metadata": {},
   "source": [
    "# 8) Seismic-Bumps"
   ]
  },
  {
   "cell_type": "code",
   "execution_count": 109,
   "id": "9cfbb326",
   "metadata": {},
   "outputs": [],
   "source": [
    "X,y = readArff('resources/ThoraricSurgery.arff')\n",
    "X_trn_seismic, X_tst_seismic, y_trn_seismic, y_tst_seismic = separateData(X,y)"
   ]
  },
  {
   "cell_type": "markdown",
   "id": "9b1cc760",
   "metadata": {},
   "source": [
    "# Now that all the 8 Classification datasets  have been extracted, we can now work on the trainning and plotting of each models"
   ]
  },
  {
   "cell_type": "code",
   "execution_count": 177,
   "id": "f6a0bdb2",
   "metadata": {},
   "outputs": [
    {
     "name": "stderr",
     "output_type": "stream",
     "text": [
      "/Users/william_huang/opt/miniconda3/lib/python3.8/site-packages/sklearn/model_selection/_search.py:292: UserWarning: The total space of parameters 5 is smaller than n_iter=10. Running 5 iterations. For exhaustive searches, use GridSearchCV.\n",
      "  warnings.warn(\n"
     ]
    },
    {
     "name": "stdout",
     "output_type": "stream",
     "text": [
      "0.7456647398843931\n",
      "0.1\n"
     ]
    }
   ],
   "source": [
    "param_distributions = {\n",
    "    'C' : [0.01, 0.1, 1.0, 10.0, 100.0],\n",
    "    #'gamma' : [0.1,0.5,2.]\n",
    "}\n",
    "\n",
    "# train the data with LogisticRegression\n",
    "logistic_estimator = sklearn.linear_model.LogisticRegression(random_state = 0, max_iter=10000)\n",
    "search = sklearn.model_selection.RandomizedSearchCV(logistic_estimator, param_distributions, random_state = 0)\n",
    "search.fit(X_trn_diabetic, y_trn_diabetic.ravel());\n",
    "logistic_estimator = sklearn.linear_model.LogisticRegression(C = search.best_estimator_.C, max_iter=10000)\n",
    "logistic_estimator.fit(X_trn_diabetic, y_trn_diabetic.ravel())\n",
    "print(logistic_estimator.score(X_tst_diabetic, y_tst_diabetic));\n",
    "print(search.best_estimator_.C)\n",
    "\n"
   ]
  },
  {
   "cell_type": "code",
   "execution_count": 172,
   "id": "ff41923b",
   "metadata": {},
   "outputs": [
    {
     "name": "stdout",
     "output_type": "stream",
     "text": [
      "Fitting 3 folds for each of 7 candidates, totalling 21 fits\n",
      "[CV] END ..................................C=0.01, gamma=0.5; total time=   0.1s\n",
      "[CV] END ..................................C=0.01, gamma=0.5; total time=   0.0s\n",
      "[CV] END ..................................C=0.01, gamma=0.5; total time=   0.0s\n",
      "[CV] END ...................................C=1.0, gamma=0.1; total time=   0.0s\n",
      "[CV] END ...................................C=1.0, gamma=0.1; total time=   0.0s\n",
      "[CV] END ...................................C=1.0, gamma=0.1; total time=   0.1s\n",
      "[CV] END ...................................C=1.0, gamma=2.0; total time=   0.0s\n",
      "[CV] END ...................................C=1.0, gamma=2.0; total time=   0.0s\n",
      "[CV] END ...................................C=1.0, gamma=2.0; total time=   0.0s\n",
      "[CV] END ..................................C=10.0, gamma=0.1; total time=   0.1s\n",
      "[CV] END ..................................C=10.0, gamma=0.1; total time=   0.0s\n",
      "[CV] END ..................................C=10.0, gamma=0.1; total time=   0.1s\n",
      "[CV] END .................................C=100.0, gamma=2.0; total time=   0.1s\n",
      "[CV] END .................................C=100.0, gamma=2.0; total time=   0.0s\n",
      "[CV] END .................................C=100.0, gamma=2.0; total time=   0.0s\n",
      "[CV] END ...................................C=0.1, gamma=0.5; total time=   0.1s\n",
      "[CV] END ...................................C=0.1, gamma=0.5; total time=   0.0s\n",
      "[CV] END ...................................C=0.1, gamma=0.5; total time=   0.0s\n",
      "[CV] END ..................................C=0.01, gamma=2.0; total time=   0.0s\n",
      "[CV] END ..................................C=0.01, gamma=2.0; total time=   0.0s\n",
      "[CV] END ..................................C=0.01, gamma=2.0; total time=   0.0s\n",
      "0.5838150289017341\n"
     ]
    }
   ],
   "source": [
    "param_distributions = {\n",
    "    'C' : [0.01, 0.1, 1.0, 10.0, 100.0],\n",
    "    'gamma' : [0.1,0.5,2.]\n",
    "}\n",
    "\n",
    "# train the data with LogisticRegression\n",
    "svm = sklearn.svm.SVC(kernel = 'rbf', random_state = 0)\n",
    "search = sklearn.model_selection.RandomizedSearchCV(svm, param_distributions, cv = 3, \n",
    "                                                    n_iter = 7, verbose = 2, random_state = 0)\n",
    "search.fit(X_trn_diabetic, y_trn_diabetic.ravel())\n",
    "svm = sklearn.svm.SVC(C=search.best_estimator_.C, gamma=search.best_estimator_.gamma, random_state=0)\n",
    "svm.fit(X_trn_diabetic, y_trn_diabetic.ravel())\n",
    "print(svm.score(X_tst_diabetic, y_tst_diabetic))\n",
    "#logistic_estimator = sklearn.linear_model.LogisticRegression(C = search.best_estimator_.C, max_iter=10000)\n",
    "#logistic_estimator.fit(X_trn_diabetic, y_trn_diabetic.ravel())\n",
    "#print(logistic_estimator.score(X_tst_diabetic, y_tst_diabetic));\n",
    "#print(search.best_estimator_.C)\n",
    "\n"
   ]
  },
  {
   "cell_type": "code",
   "execution_count": 178,
   "id": "5542ec81",
   "metadata": {},
   "outputs": [
    {
     "ename": "TypeError",
     "evalue": "__init__() got an unexpected keyword argument 'kernel'",
     "output_type": "error",
     "traceback": [
      "\u001b[0;31m---------------------------------------------------------------------------\u001b[0m",
      "\u001b[0;31mTypeError\u001b[0m                                 Traceback (most recent call last)",
      "\u001b[0;32m<ipython-input-178-30f8b5413859>\u001b[0m in \u001b[0;36m<module>\u001b[0;34m\u001b[0m\n\u001b[0;32m----> 1\u001b[0;31m \u001b[0mdecision_tree\u001b[0m \u001b[0;34m=\u001b[0m \u001b[0msklearn\u001b[0m\u001b[0;34m.\u001b[0m\u001b[0mtree\u001b[0m\u001b[0;34m.\u001b[0m\u001b[0mDecisionTreeClassifier\u001b[0m\u001b[0;34m(\u001b[0m\u001b[0mkernel\u001b[0m \u001b[0;34m=\u001b[0m \u001b[0;34m'rbf'\u001b[0m\u001b[0;34m,\u001b[0m \u001b[0mrandom_state\u001b[0m \u001b[0;34m=\u001b[0m \u001b[0;36m0\u001b[0m\u001b[0;34m)\u001b[0m\u001b[0;34m\u001b[0m\u001b[0;34m\u001b[0m\u001b[0m\n\u001b[0m\u001b[1;32m      2\u001b[0m search = sklearn.model_selection.RandomizedSearchCV(decision_tree, param_distributions, cv = 3, \n\u001b[1;32m      3\u001b[0m                                                     n_iter = 7, verbose = 2, random_state = 0)\n\u001b[1;32m      4\u001b[0m \u001b[0msearch\u001b[0m\u001b[0;34m.\u001b[0m\u001b[0mfit\u001b[0m\u001b[0;34m(\u001b[0m\u001b[0mX_trn_diabetic\u001b[0m\u001b[0;34m,\u001b[0m \u001b[0my_trn_diabetic\u001b[0m\u001b[0;34m.\u001b[0m\u001b[0mravel\u001b[0m\u001b[0;34m(\u001b[0m\u001b[0;34m)\u001b[0m\u001b[0;34m)\u001b[0m\u001b[0;34m\u001b[0m\u001b[0;34m\u001b[0m\u001b[0m\n\u001b[1;32m      5\u001b[0m \u001b[0msvm\u001b[0m \u001b[0;34m=\u001b[0m \u001b[0msklearn\u001b[0m\u001b[0;34m.\u001b[0m\u001b[0msvm\u001b[0m\u001b[0;34m.\u001b[0m\u001b[0mSVC\u001b[0m\u001b[0;34m(\u001b[0m\u001b[0mC\u001b[0m\u001b[0;34m=\u001b[0m\u001b[0msearch\u001b[0m\u001b[0;34m.\u001b[0m\u001b[0mbest_estimator_\u001b[0m\u001b[0;34m.\u001b[0m\u001b[0mC\u001b[0m\u001b[0;34m,\u001b[0m \u001b[0mgamma\u001b[0m\u001b[0;34m=\u001b[0m\u001b[0msearch\u001b[0m\u001b[0;34m.\u001b[0m\u001b[0mbest_estimator_\u001b[0m\u001b[0;34m.\u001b[0m\u001b[0mgamma\u001b[0m\u001b[0;34m,\u001b[0m \u001b[0mrandom_state\u001b[0m\u001b[0;34m=\u001b[0m\u001b[0;36m0\u001b[0m\u001b[0;34m)\u001b[0m\u001b[0;34m\u001b[0m\u001b[0;34m\u001b[0m\u001b[0m\n",
      "\u001b[0;31mTypeError\u001b[0m: __init__() got an unexpected keyword argument 'kernel'"
     ]
    }
   ],
   "source": [
    "decision_tree = sklearn.tree.DecisionTreeClassifier(kernel = 'rbf', random_state = 0)\n",
    "search = sklearn.model_selection.RandomizedSearchCV(decision_tree, param_distributions, cv = 3, \n",
    "                                                    n_iter = 7, verbose = 2, random_state = 0)\n",
    "search.fit(X_trn_diabetic, y_trn_diabetic.ravel())\n",
    "svm = sklearn.svm.SVC(C=search.best_estimator_.C, gamma=search.best_estimator_.gamma, random_state=0)\n",
    "svm.fit(X_trn_diabetic, y_trn_diabetic.ravel())\n",
    "print(svm.score(X_tst_diabetic, y_tst_diabetic))"
   ]
  },
  {
   "cell_type": "code",
   "execution_count": 120,
   "id": "022db9fa",
   "metadata": {},
   "outputs": [],
   "source": [
    "# define the train_estimators to train the required estimators\n",
    "\n",
    "def train_estimators(X, y, estimator_type, param_name, param_vals, **kwargs):\n",
    "    trainned_estimators = []\n",
    "    for i in range(0,len(param_vals)):\n",
    "        clf = estimator_type(**kwargs)\n",
    "        clf.set_params(**{param_name:param_vals[i]})\n",
    "        clf.fit(X,y)\n",
    "        trainned_estimators.append(clf)\n",
    "        print('Training ', clf, '...')\n",
    "    return trainned_estimators\n",
    "\n",
    "def score_estimators(X, y, estimators):\n",
    "    accuracy_scores = []\n",
    "    for i in range(0, len(estimators)):\n",
    "        accuracy_scores.append(roundVal(estimators[i].score(X,y)))\n",
    "    return accuracy_scores\n",
    "        \n",
    "def plot_estimator_scores(estimators, param_name, param_vals):\n",
    "    x_arange = np.arange(len(param_vals))\n",
    "    \n",
    "    # compute the score of each data and store them as separate list\n",
    "    y_ax_trn = score_estimators(X_trn, y_trn, estimators)\n",
    "    y_ax_tst = score_estimators(X_tst, y_tst, estimators)\n",
    "\n",
    "    # plot each of the ata\n",
    "    plt.plot(x_arange, y_ax_tst, color='black', linestyle = 'dashed', label = \"test\");\n",
    "    plt.plot(x_arange, y_ax_trn, color='green', marker='o', label = \"train\");\n",
    "    plt.xticks(x_arange,param_vals)\n",
    "\n",
    "    plt.xlabel(param_name)\n",
    "    plt.ylabel('score')\n",
    "    plt.title(str(estimators[0].__class__.__name__) + ' vs ' + param_name)\n",
    "    plt.legend()\n",
    "    plt.text(3.5, 0.4, 'train = ' + str(max(y_ax_trn)) , fontsize=10, color = 'green')\n",
    "    plt.text(3.5, 0.2, 'test = ' + str(max(y_ax_tst)), fontsize=10, color = 'black')\n",
    "    plt.ylim([0,1.1])\n",
    "    plt.show()\n",
    "    \n",
    "def roundVal(val):\n",
    "    rounded = round(val,3)\n",
    "    return rounded"
   ]
  },
  {
   "cell_type": "code",
   "execution_count": 220,
   "id": "963ce0ce",
   "metadata": {},
   "outputs": [
    {
     "ename": "NameError",
     "evalue": "name 'X_trn' is not defined",
     "output_type": "error",
     "traceback": [
      "\u001b[1;31m---------------------------------------------------------------------------\u001b[0m",
      "\u001b[1;31mNameError\u001b[0m                                 Traceback (most recent call last)",
      "\u001b[1;32m<ipython-input-220-c44e1e0efc27>\u001b[0m in \u001b[0;36m<module>\u001b[1;34m\u001b[0m\n\u001b[0;32m      1\u001b[0m \u001b[1;31m# train the data with LogisticRegression\u001b[0m\u001b[1;33m\u001b[0m\u001b[1;33m\u001b[0m\u001b[1;33m\u001b[0m\u001b[0m\n\u001b[1;32m----> 2\u001b[1;33m logistic_estimators = train_estimators(X_trn, y_trn.ravel(), sklearn.linear_model.LogisticRegression,\n\u001b[0m\u001b[0;32m      3\u001b[0m                                    'C', [0.00001, 0.0001, 0.001, 0.01, 0.1, 1], max_iter=10000,  random_state=0)\n\u001b[0;32m      4\u001b[0m \u001b[0mplot_estimator_scores\u001b[0m\u001b[1;33m(\u001b[0m\u001b[0mlogistic_estimators\u001b[0m\u001b[1;33m,\u001b[0m \u001b[1;34m'C'\u001b[0m\u001b[1;33m,\u001b[0m \u001b[1;33m[\u001b[0m\u001b[1;36m0.00001\u001b[0m\u001b[1;33m,\u001b[0m \u001b[1;36m0.0001\u001b[0m\u001b[1;33m,\u001b[0m \u001b[1;36m0.001\u001b[0m\u001b[1;33m,\u001b[0m \u001b[1;36m0.01\u001b[0m\u001b[1;33m,\u001b[0m \u001b[1;36m0.1\u001b[0m\u001b[1;33m,\u001b[0m \u001b[1;36m1\u001b[0m\u001b[1;33m]\u001b[0m\u001b[1;33m)\u001b[0m\u001b[1;33m\u001b[0m\u001b[1;33m\u001b[0m\u001b[0m\n",
      "\u001b[1;31mNameError\u001b[0m: name 'X_trn' is not defined"
     ]
    }
   ],
   "source": [
    "# train the data with LogisticRegression\n",
    "logistic_estimators = train_estimators(X_trn, y_trn.ravel(), sklearn.linear_model.LogisticRegression,\n",
    "                                   'C', [0.00001, 0.0001, 0.001, 0.01, 0.1, 1], max_iter=10000,  random_state=0)\n",
    "plot_estimator_scores(logistic_estimators, 'C', [0.00001, 0.0001, 0.001, 0.01, 0.1, 1])\n"
   ]
  },
  {
   "cell_type": "code",
   "execution_count": null,
   "id": "0026c714",
   "metadata": {},
   "outputs": [],
   "source": [
    "# train with svm classifier\n",
    "svm_estimators = train_estimators(X_trn, y_trn.ravel(), sklearn.svm.SVC,\n",
    "                                   'C', [0.01, 0.1, 1, 10.0, 100.0, 1000.0], gamma = 0.001, max_iter=10000,  random_state=0)"
   ]
  },
  {
   "cell_type": "code",
   "execution_count": null,
   "id": "4cb0c2cd",
   "metadata": {},
   "outputs": [],
   "source": [
    "plot_estimator_scores(svm_estimators, 'C', [0.01, 0.1, 0, 10.0, 100.0, 1000.0])"
   ]
  },
  {
   "cell_type": "code",
   "execution_count": null,
   "id": "cb8672be",
   "metadata": {},
   "outputs": [],
   "source": [
    "tree_estimators = train_estimators(X_trn, y_trn, sklearn.tree.DecisionTreeClassifier,\n",
    "                                   'max_depth', [1, 5, 10], splitter='random', random_state=0)"
   ]
  },
  {
   "cell_type": "code",
   "execution_count": null,
   "id": "5fba13d4",
   "metadata": {},
   "outputs": [],
   "source": [
    "#plot_estimator_scores(tree_estimators, 'max_depth', [1, 5, 10, 20, 50, 100])"
   ]
  },
  {
   "cell_type": "code",
   "execution_count": null,
   "id": "f2fe23ef",
   "metadata": {},
   "outputs": [],
   "source": [
    "randomForest_estimators = train_estimators(X_trn, y_trn.ravel(), sklearn.ensemble.RandomForestClassifier,\n",
    "                                   'max_depth', [1, 5, 10, 20, 50, 100],  random_state=0)"
   ]
  },
  {
   "cell_type": "code",
   "execution_count": null,
   "id": "51f2c2b4",
   "metadata": {},
   "outputs": [],
   "source": [
    "plot_estimator_scores(randomForest_estimators, 'max_depth', [1, 5, 10, 20, 50, 100])"
   ]
  },
  {
   "cell_type": "code",
   "execution_count": null,
   "id": "4d06f075",
   "metadata": {},
   "outputs": [],
   "source": [
    "\n",
    "neighbors_estimators = train_estimators(X_trn, y_trn.ravel(), sklearn.neighbors.KNeighborsRegressor,\n",
    "                                   'n_neighbors', [5, 15, 20, 50, 100]) #[1, 5, 10, 20, 50, 100]"
   ]
  },
  {
   "cell_type": "code",
   "execution_count": null,
   "id": "918fef86",
   "metadata": {},
   "outputs": [],
   "source": [
    "plot_estimator_scores(neighbors_estimators, 'n_neighbors', [5, 15, 20, 50, 100])\n"
   ]
  },
  {
   "cell_type": "code",
   "execution_count": null,
   "id": "e445dd47",
   "metadata": {},
   "outputs": [],
   "source": []
  },
  {
   "cell_type": "code",
   "execution_count": null,
   "id": "b769c88e",
   "metadata": {},
   "outputs": [],
   "source": []
  },
  {
   "cell_type": "code",
   "execution_count": null,
   "id": "2366eeab",
   "metadata": {},
   "outputs": [],
   "source": []
  },
  {
   "cell_type": "code",
   "execution_count": null,
   "id": "6ec11a32",
   "metadata": {},
   "outputs": [],
   "source": []
  },
  {
   "cell_type": "code",
   "execution_count": null,
   "id": "80737b6a",
   "metadata": {},
   "outputs": [],
   "source": []
  },
  {
   "cell_type": "code",
   "execution_count": null,
   "id": "6cd3d626",
   "metadata": {},
   "outputs": [],
   "source": []
  },
  {
   "cell_type": "code",
   "execution_count": null,
   "id": "ca8a022a",
   "metadata": {},
   "outputs": [],
   "source": []
  },
  {
   "cell_type": "code",
   "execution_count": null,
   "id": "6952a7f0",
   "metadata": {},
   "outputs": [],
   "source": []
  },
  {
   "cell_type": "code",
   "execution_count": null,
   "id": "38a06bf2",
   "metadata": {},
   "outputs": [],
   "source": []
  },
  {
   "cell_type": "code",
   "execution_count": null,
   "id": "dd78469c",
   "metadata": {},
   "outputs": [],
   "source": []
  }
 ],
 "metadata": {
  "kernelspec": {
   "display_name": "Python 3",
   "language": "python",
   "name": "python3"
  },
  "language_info": {
   "codemirror_mode": {
    "name": "ipython",
    "version": 3
   },
   "file_extension": ".py",
   "mimetype": "text/x-python",
   "name": "python",
   "nbconvert_exporter": "python",
   "pygments_lexer": "ipython3",
   "version": "3.8.10"
  }
 },
 "nbformat": 4,
 "nbformat_minor": 5
}
