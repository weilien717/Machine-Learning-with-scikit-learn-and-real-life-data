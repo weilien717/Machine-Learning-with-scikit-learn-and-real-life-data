{
 "cells": [
  {
   "cell_type": "code",
   "execution_count": 104,
   "id": "93c84c96",
   "metadata": {},
   "outputs": [],
   "source": [
    "from scipy.io import arff\n",
    "import pandas as pd\n",
    "import os                        # for os.path.exists\n",
    "import json                      # for loading metadata\n",
    "import urllib                    # for downloading remote files \n",
    "import numpy as np\n",
    "import matplotlib as mpl\n",
    "import matplotlib.pyplot as plt\n",
    "import sklearn\n",
    "import sklearn.tree\n",
    "import sklearn.metrics\n",
    "import sklearn.ensemble\n",
    "import sklearn.preprocessing"
   ]
  },
  {
   "cell_type": "code",
   "execution_count": 375,
   "id": "e14873ad",
   "metadata": {},
   "outputs": [],
   "source": [
    "# loading the Diabetic Retinopathy data that is downloaded \n",
    "data = arff.loadarff('resources/messidor_features.arff')\n",
    "df = pd.DataFrame(data[0])\n",
    "data = data[0]\n",
    "data = data[0:len(data)]\n",
    "data_list = []\n",
    "# extract the data and conver\n",
    "for x in data:\n",
    "    x_data = list(x)\n",
    "    data_list.append(x_data)\n",
    "\n",
    "X_list = []\n",
    "y_list = []\n",
    "# split the data in a way that it can be converted to numpy array\n",
    "for i in data_list:\n",
    "    X_list.append(i[0:19]) \n",
    "    y_list.append(i[19:])\n",
    "\n",
    "X = np.array(X_list)\n",
    "y = np.array(y_list)"
   ]
  },
  {
   "cell_type": "code",
   "execution_count": 404,
   "id": "e0dc1b9d",
   "metadata": {},
   "outputs": [
    {
     "name": "stdout",
     "output_type": "stream",
     "text": [
      "21869\n",
      "15295\n",
      "6574\n"
     ]
    }
   ],
   "source": [
    "# splitting the testing and training\n",
    "# testing will take 30% while training will take 70%\n",
    "X_trn, X_tst, y_trn, y_tst = sklearn.model_selection.train_test_split(X, y, test_size=0.3, random_state=0)\n",
    "print(X.size)\n",
    "print(X_trn.size)\n",
    "print(X_tst.size)\n"
   ]
  },
  {
   "cell_type": "code",
   "execution_count": 387,
   "id": "022db9fa",
   "metadata": {},
   "outputs": [],
   "source": [
    "# define the train_estimators to train the required estimators\n",
    "def train_estimators(X, y, estimator_type, param_name, param_vals, **kwargs):\n",
    "    trainned_estimators = []\n",
    "    for i in range(0,len(param_vals)):\n",
    "        clf = estimator_type(**kwargs)\n",
    "        clf.set_params(**{param_name:param_vals[i]})\n",
    "        clf.fit(X,y)\n",
    "        trainned_estimators.append(clf)\n",
    "        print('Training ', clf, '...')\n",
    "    return trainned_estimators\n",
    "\n",
    "def score_estimators(X, y, estimators):\n",
    "    accuracy_scores = []\n",
    "    for i in range(0, len(estimators)):\n",
    "        accuracy_scores.append(roundVal(estimators[i].score(X,y)))\n",
    "    return accuracy_scores\n",
    "        \n",
    "def plot_estimator_scores(estimators, param_name, param_vals):\n",
    "    x_arange = np.arange(len(param_vals))\n",
    "    \n",
    "    # compute the score of each data and store them as separate list\n",
    "    y_ax_trn = score_estimators(X_trn, y_trn, estimators)\n",
    "    y_ax_tst = score_estimators(X_tst, y_tst, estimators)\n",
    "\n",
    "    # plot each of the ata\n",
    "    plt.plot(x_arange, y_ax_tst, color='black', linestyle = 'dashed', label = \"test\");\n",
    "    plt.plot(x_arange, y_ax_trn, color='green', marker='o', label = \"train\");\n",
    "    plt.xticks(x_arange,param_vals)\n",
    "\n",
    "    plt.xlabel(param_name)\n",
    "    plt.ylabel('score')\n",
    "    plt.title(str(estimators[0].__class__.__name__) + ' vs ' + param_name)\n",
    "    plt.legend()\n",
    "    plt.text(3.5, 0.4, 'train = ' + str(max(y_ax_trn)) , fontsize=10, color = 'green')\n",
    "    plt.text(3.5, 0.2, 'test = ' + str(max(y_ax_tst)), fontsize=10, color = 'black')\n",
    "    plt.ylim([0,1.1])\n",
    "    plt.show()\n",
    "    \n",
    "def roundVal(val):\n",
    "    rounded = round(val,3)\n",
    "    return rounded"
   ]
  },
  {
   "cell_type": "code",
   "execution_count": 394,
   "id": "963ce0ce",
   "metadata": {},
   "outputs": [
    {
     "name": "stdout",
     "output_type": "stream",
     "text": [
      "Training  LogisticRegression(C=1e-05, max_iter=10000, random_state=0) ...\n",
      "Training  LogisticRegression(C=0.0001, max_iter=10000, random_state=0) ...\n",
      "Training  LogisticRegression(C=0.001, max_iter=10000, random_state=0) ...\n",
      "Training  LogisticRegression(C=0.01, max_iter=10000, random_state=0) ...\n",
      "Training  LogisticRegression(C=0.1, max_iter=10000, random_state=0) ...\n",
      "Training  LogisticRegression(C=1, max_iter=10000, random_state=0) ...\n"
     ]
    },
    {
     "data": {
      "image/png": "[encoded data removed]",
      "text/plain": [
       "<Figure size 432x288 with 1 Axes>"
      ]
     },
     "metadata": {
      "needs_background": "light"
     },
     "output_type": "display_data"
    }
   ],
   "source": [
    "# train the data with LogisticRegression\n",
    "logistic_estimators = train_estimators(X_trn, y_trn.ravel(), sklearn.linear_model.LogisticRegression,\n",
    "                                   'C', [0.00001, 0.0001, 0.001, 0.01, 0.1, 1], max_iter=10000,  random_state=0)\n",
    "plot_estimator_scores(logistic_estimators, 'C', [0.00001, 0.0001, 0.001, 0.01, 0.1, 1])\n"
   ]
  },
  {
   "cell_type": "code",
   "execution_count": 398,
   "id": "0026c714",
   "metadata": {},
   "outputs": [
    {
     "name": "stdout",
     "output_type": "stream",
     "text": [
      "Training  SVC(C=0.01, gamma=0.001, max_iter=10000, random_state=0) ...\n",
      "Training  SVC(C=0.1, gamma=0.001, max_iter=10000, random_state=0) ...\n",
      "Training  SVC(C=1, gamma=0.001, max_iter=10000, random_state=0) ...\n",
      "Training  SVC(C=10.0, gamma=0.001, max_iter=10000, random_state=0) ...\n",
      "Training  SVC(C=100.0, gamma=0.001, max_iter=10000, random_state=0) ...\n",
      "Training  SVC(C=1000.0, gamma=0.001, max_iter=10000, random_state=0) ...\n"
     ]
    },
    {
     "name": "stderr",
     "output_type": "stream",
     "text": [
      "/Users/william_huang/opt/miniconda3/lib/python3.8/site-packages/sklearn/svm/_base.py:284: ConvergenceWarning: Solver terminated early (max_iter=10000).  Consider pre-processing your data with StandardScaler or MinMaxScaler.\n",
      "  warnings.warn(\n",
      "/Users/william_huang/opt/miniconda3/lib/python3.8/site-packages/sklearn/svm/_base.py:284: ConvergenceWarning: Solver terminated early (max_iter=10000).  Consider pre-processing your data with StandardScaler or MinMaxScaler.\n",
      "  warnings.warn(\n"
     ]
    }
   ],
   "source": [
    "# train with svm classifier\n",
    "svm_estimators = train_estimators(X_trn, y_trn.ravel(), sklearn.svm.SVC,\n",
    "                                   'C', [0.01, 0.1, 1, 10.0, 100.0, 1000.0], gamma = 0.001, max_iter=10000,  random_state=0)"
   ]
  },
  {
   "cell_type": "code",
   "execution_count": 399,
   "id": "4cb0c2cd",
   "metadata": {},
   "outputs": [
    {
     "data": {
      "image/png": "[encoded data removed]",
      "text/plain": [
       "<Figure size 432x288 with 1 Axes>"
      ]
     },
     "metadata": {
      "needs_background": "light"
     },
     "output_type": "display_data"
    }
   ],
   "source": [
    "plot_estimator_scores(svm_estimators, 'C', [0.01, 0.1, 0, 10.0, 100.0, 1000.0])"
   ]
  },
  {
   "cell_type": "code",
   "execution_count": 406,
   "id": "cb8672be",
   "metadata": {},
   "outputs": [
    {
     "name": "stdout",
     "output_type": "stream",
     "text": [
      "Training  DecisionTreeClassifier(max_depth=1, random_state=0, splitter='random') ...\n",
      "Training  DecisionTreeClassifier(max_depth=5, random_state=0, splitter='random') ...\n",
      "Training  DecisionTreeClassifier(max_depth=10, random_state=0, splitter='random') ...\n"
     ]
    }
   ],
   "source": [
    "tree_estimators = train_estimators(X_trn, y_trn, sklearn.tree.DecisionTreeClassifier,\n",
    "                                   'max_depth', [1, 5, 10], splitter='random', random_state=0)"
   ]
  },
  {
   "cell_type": "code",
   "execution_count": 409,
   "id": "5fba13d4",
   "metadata": {},
   "outputs": [],
   "source": [
    "#plot_estimator_scores(tree_estimators, 'max_depth', [1, 5, 10, 20, 50, 100])"
   ]
  },
  {
   "cell_type": "code",
   "execution_count": 413,
   "id": "f2fe23ef",
   "metadata": {},
   "outputs": [
    {
     "name": "stdout",
     "output_type": "stream",
     "text": [
      "Training  RandomForestClassifier(max_depth=1, random_state=0) ...\n",
      "Training  RandomForestClassifier(max_depth=5, random_state=0) ...\n",
      "Training  RandomForestClassifier(max_depth=10, random_state=0) ...\n",
      "Training  RandomForestClassifier(max_depth=20, random_state=0) ...\n",
      "Training  RandomForestClassifier(max_depth=50, random_state=0) ...\n",
      "Training  RandomForestClassifier(max_depth=100, random_state=0) ...\n"
     ]
    }
   ],
   "source": [
    "randomForest_estimators = train_estimators(X_trn, y_trn.ravel(), sklearn.ensemble.RandomForestClassifier,\n",
    "                                   'max_depth', [1, 5, 10, 20, 50, 100],  random_state=0)"
   ]
  },
  {
   "cell_type": "code",
   "execution_count": 415,
   "id": "51f2c2b4",
   "metadata": {},
   "outputs": [
    {
     "data": {
      "image/png": "[encoded data removed]",
      "text/plain": [
       "<Figure size 432x288 with 1 Axes>"
      ]
     },
     "metadata": {
      "needs_background": "light"
     },
     "output_type": "display_data"
    }
   ],
   "source": [
    "plot_estimator_scores(randomForest_estimators, 'max_depth', [1, 5, 10, 20, 50, 100])"
   ]
  },
  {
   "cell_type": "code",
   "execution_count": 422,
   "id": "4d06f075",
   "metadata": {},
   "outputs": [
    {
     "name": "stdout",
     "output_type": "stream",
     "text": [
      "Training  KNeighborsRegressor() ...\n",
      "Training  KNeighborsRegressor(n_neighbors=15) ...\n",
      "Training  KNeighborsRegressor(n_neighbors=20) ...\n",
      "Training  KNeighborsRegressor(n_neighbors=50) ...\n",
      "Training  KNeighborsRegressor(n_neighbors=100) ...\n"
     ]
    }
   ],
   "source": [
    "\n",
    "neighbors_estimators = train_estimators(X_trn, y_trn.ravel(), sklearn.neighbors.KNeighborsRegressor,\n",
    "                                   'n_neighbors', [5, 15, 20, 50, 100]) #[1, 5, 10, 20, 50, 100]"
   ]
  },
  {
   "cell_type": "code",
   "execution_count": 428,
   "id": "918fef86",
   "metadata": {},
   "outputs": [],
   "source": [
    "#plot_estimator_scores(neighbors_estimators, 'n_neighbors', [5, 15, 20, 50, 100])\n"
   ]
  },
  {
   "cell_type": "code",
   "execution_count": null,
   "id": "e445dd47",
   "metadata": {},
   "outputs": [],
   "source": []
  },
  {
   "cell_type": "code",
   "execution_count": null,
   "id": "b769c88e",
   "metadata": {},
   "outputs": [],
   "source": []
  },
  {
   "cell_type": "code",
   "execution_count": null,
   "id": "2366eeab",
   "metadata": {},
   "outputs": [],
   "source": []
  },
  {
   "cell_type": "code",
   "execution_count": null,
   "id": "6ec11a32",
   "metadata": {},
   "outputs": [],
   "source": []
  },
  {
   "cell_type": "code",
   "execution_count": null,
   "id": "80737b6a",
   "metadata": {},
   "outputs": [],
   "source": []
  },
  {
   "cell_type": "code",
   "execution_count": null,
   "id": "6cd3d626",
   "metadata": {},
   "outputs": [],
   "source": []
  },
  {
   "cell_type": "code",
   "execution_count": null,
   "id": "ca8a022a",
   "metadata": {},
   "outputs": [],
   "source": []
  },
  {
   "cell_type": "code",
   "execution_count": null,
   "id": "6952a7f0",
   "metadata": {},
   "outputs": [],
   "source": []
  },
  {
   "cell_type": "code",
   "execution_count": null,
   "id": "38a06bf2",
   "metadata": {},
   "outputs": [],
   "source": []
  },
  {
   "cell_type": "code",
   "execution_count": null,
   "id": "dd78469c",
   "metadata": {},
   "outputs": [],
   "source": []
  }
 ],
 "metadata": {
  "kernelspec": {
   "display_name": "Python 3",
   "language": "python",
   "name": "python3"
  },
  "language_info": {
   "codemirror_mode": {
    "name": "ipython",
    "version": 3
   },
   "file_extension": ".py",
   "mimetype": "text/x-python",
   "name": "python",
   "nbconvert_exporter": "python",
   "pygments_lexer": "ipython3",
   "version": "3.8.10"
  }
 },
 "nbformat": 4,
 "nbformat_minor": 5
}
